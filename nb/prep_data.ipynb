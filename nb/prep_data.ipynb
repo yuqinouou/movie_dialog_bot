{
 "cells": [
  {
   "cell_type": "code",
   "execution_count": 7,
   "metadata": {},
   "outputs": [],
   "source": [
    "def load_lines(filename):\n",
    "    with open(filename, 'r', encoding='iso-8859-1') as file:\n",
    "        lines = file.readlines()\n",
    "    return lines\n",
    "\n",
    "def load_conversations(filename):\n",
    "    with open(filename, 'r', encoding='iso-8859-1') as file:\n",
    "        conversations = file.readlines()\n",
    "    return conversations\n",
    "\n",
    "def extract_conversations(conversations):\n",
    "    conversation_list = []\n",
    "    for line in conversations:\n",
    "        line_parts = line.split(' +++$+++ ')\n",
    "        conversation_ids = eval(line_parts[-1])\n",
    "        conversation_list.append(conversation_ids)\n",
    "    return conversation_list\n",
    "\n",
    "def create_lines_dictionary(lines):\n",
    "    lines_dict = {}\n",
    "    for line in lines:\n",
    "        parts = line.split('+++$+++')\n",
    "        if len(parts) == 5:\n",
    "            line_id = parts[0].strip()\n",
    "            text = parts[4].strip()\n",
    "            lines_dict[line_id] = text\n",
    "    return lines_dict\n",
    "\n",
    "def create_dialogue_pairs(lines_dict, conversations):\n",
    "    conversation_list = extract_conversations(conversations)\n",
    "    dialogue_pairs = []\n",
    "    for conversation in conversation_list:\n",
    "        for i in range(len(conversation) - 1):\n",
    "            input_line = lines_dict[conversation[i]].strip()\n",
    "            target_line = lines_dict[conversation[i + 1]].strip()\n",
    "            dialogue_pairs.append((input_line, target_line))\n",
    "    return dialogue_pairs"
   ]
  },
  {
   "cell_type": "code",
   "execution_count": 3,
   "metadata": {},
   "outputs": [
    {
     "name": "stderr",
     "output_type": "stream",
     "text": [
      "[nltk_data] Downloading package punkt to\n",
      "[nltk_data]     C:\\Users\\weiyu\\AppData\\Roaming\\nltk_data...\n",
      "[nltk_data]   Unzipping tokenizers\\punkt.zip.\n"
     ]
    }
   ],
   "source": [
    "import re\n",
    "import nltk\n",
    "nltk.download('punkt')\n",
    "\n",
    "def clean_text(text):\n",
    "    text = text.lower()\n",
    "    text = re.sub(r\"i'm\", \"i am\", text)\n",
    "    text = re.sub(r\"he's\", \"he is\", text)\n",
    "    text = re.sub(r\"she's\", \"she is\", text)\n",
    "    text = re.sub(r\"that's\", \"that is\", text)\n",
    "    text = re.sub(r\"what's\", \"what is\", text)\n",
    "    text = re.sub(r\"where's\", \"where is\", text)\n",
    "    text = re.sub(r\"\\'ll\", \" will\", text)\n",
    "    text = re.sub(r\"\\'ve\", \" have\", text)\n",
    "    text = re.sub(r\"\\'re\", \" are\", text)\n",
    "    text = re.sub(r\"\\'d\", \" would\", text)\n",
    "    text = re.sub(r\"won't\", \"will not\", text)\n",
    "    text = re.sub(r\"can't\", \"cannot\", text)\n",
    "    text = re.sub(r\"[-()\\\"#/@;:<>{}`+=~|.!?,]\", \"\", text)\n",
    "    text = re.sub(r\"\\s{2,}\", \" \", text)\n",
    "    return text\n",
    "\n",
    "def tokenize(text):\n",
    "    return nltk.word_tokenize(text)\n",
    "\n",
    "def preprocess_dialogue(dialogue_pairs):\n",
    "    preprocessed_pairs = []\n",
    "    for pair in dialogue_pairs:\n",
    "        input_line = clean_text(pair[0])\n",
    "        target_line = clean_text(pair[1])\n",
    "        input_tokens = tokenize(input_line)\n",
    "        target_tokens = tokenize(target_line)\n",
    "        preprocessed_pairs.append((input_tokens, target_tokens))\n",
    "    return preprocessed_pairs"
   ]
  },
  {
   "cell_type": "code",
   "execution_count": 5,
   "metadata": {},
   "outputs": [],
   "source": [
    "lines = load_lines('../data/movie_lines.txt')\n",
    "conversations = load_conversations('../data/movie_conversations.txt')"
   ]
  },
  {
   "cell_type": "code",
   "execution_count": 9,
   "metadata": {},
   "outputs": [],
   "source": [
    "lines_dict = create_lines_dictionary(lines)\n",
    "dialogue_pairs = create_dialogue_pairs(lines_dict, conversations)\n",
    "preprocessed_dialogue_pairs = preprocess_dialogue(dialogue_pairs)"
   ]
  },
  {
   "cell_type": "code",
   "execution_count": 10,
   "metadata": {},
   "outputs": [],
   "source": [
    "import pickle\n",
    "\n",
    "# Save the preprocessed dialogue pairs\n",
    "with open('../data/preprocessed_dialogue_pairs.pkl', 'wb') as file:\n",
    "    pickle.dump(preprocessed_dialogue_pairs, file)"
   ]
  },
  {
   "cell_type": "code",
   "execution_count": 11,
   "metadata": {},
   "outputs": [
    {
     "name": "stdout",
     "output_type": "stream",
     "text": [
      "(['can', 'we', 'make', 'this', 'quick', 'roxanne', 'korrine', 'and', 'andrew', 'barrett', 'are', 'having', 'an', 'incredibly', 'horrendous', 'public', 'break', 'up', 'on', 'the', 'quad', 'again'], ['well', 'i', 'thought', 'we', 'would', 'start', 'with', 'pronunciation', 'if', 'that', 'is', 'okay', 'with', 'you'])\n",
      "(['well', 'i', 'thought', 'we', 'would', 'start', 'with', 'pronunciation', 'if', 'that', 'is', 'okay', 'with', 'you'], ['not', 'the', 'hacking', 'and', 'gagging', 'and', 'spitting', 'part', 'please'])\n",
      "(['not', 'the', 'hacking', 'and', 'gagging', 'and', 'spitting', 'part', 'please'], ['okay', 'then', 'how', \"'bout\", 'we', 'try', 'out', 'some', 'french', 'cuisine', 'saturday', 'night'])\n",
      "(['you', 'are', 'asking', 'me', 'out', 'that', 'is', 'so', 'cute', 'what', 'is', 'your', 'name', 'again'], ['forget', 'it'])\n",
      "(['no', 'no', 'it', \"'s\", 'my', 'fault', 'we', 'did', \"n't\", 'have', 'a', 'proper', 'introduction'], ['cameron'])\n",
      "(['cameron'], ['the', 'thing', 'is', 'cameron', 'i', 'am', 'at', 'the', 'mercy', 'of', 'a', 'particularly', 'hideous', 'breed', 'of', 'loser', 'my', 'sister', 'i', 'can', 'not', 'date', 'until', 'she', 'does'])\n",
      "(['the', 'thing', 'is', 'cameron', 'i', 'am', 'at', 'the', 'mercy', 'of', 'a', 'particularly', 'hideous', 'breed', 'of', 'loser', 'my', 'sister', 'i', 'can', 'not', 'date', 'until', 'she', 'does'], ['seems', 'like', 'she', 'could', 'get', 'a', 'date', 'easy', 'enough'])\n",
      "(['why'], ['unsolved', 'mystery', 'she', 'used', 'to', 'be', 'really', 'popular', 'when', 'she', 'started', 'high', 'school', 'then', 'it', 'was', 'just', 'like', 'she', 'got', 'sick', 'of', 'it', 'or', 'something'])\n",
      "(['unsolved', 'mystery', 'she', 'used', 'to', 'be', 'really', 'popular', 'when', 'she', 'started', 'high', 'school', 'then', 'it', 'was', 'just', 'like', 'she', 'got', 'sick', 'of', 'it', 'or', 'something'], ['that', 'is', 'a', 'shame'])\n",
      "(['gosh', 'if', 'only', 'we', 'could', 'find', 'kat', 'a', 'boyfriend'], ['let', 'me', 'see', 'what', 'i', 'can', 'do'])\n"
     ]
    }
   ],
   "source": [
    "for pair in preprocessed_dialogue_pairs[:10]:\n",
    "    print(pair)"
   ]
  }
 ],
 "metadata": {
  "kernelspec": {
   "display_name": "gan",
   "language": "python",
   "name": "python3"
  },
  "language_info": {
   "codemirror_mode": {
    "name": "ipython",
    "version": 3
   },
   "file_extension": ".py",
   "mimetype": "text/x-python",
   "name": "python",
   "nbconvert_exporter": "python",
   "pygments_lexer": "ipython3",
   "version": "3.11.5"
  }
 },
 "nbformat": 4,
 "nbformat_minor": 2
}
