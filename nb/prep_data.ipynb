{
 "cells": [
  {
   "cell_type": "code",
   "execution_count": 23,
   "metadata": {},
   "outputs": [
    {
     "name": "stderr",
     "output_type": "stream",
     "text": [
      "[nltk_data] Downloading package punkt to\n",
      "[nltk_data]     C:\\Users\\weiyu\\AppData\\Roaming\\nltk_data...\n",
      "[nltk_data]   Package punkt is already up-to-date!\n",
      "[nltk_data] Downloading package stopwords to\n",
      "[nltk_data]     C:\\Users\\weiyu\\AppData\\Roaming\\nltk_data...\n",
      "[nltk_data]   Package stopwords is already up-to-date!\n",
      "[nltk_data] Downloading package wordnet to\n",
      "[nltk_data]     C:\\Users\\weiyu\\AppData\\Roaming\\nltk_data...\n",
      "[nltk_data]   Package wordnet is already up-to-date!\n"
     ]
    }
   ],
   "source": [
    "import nltk\n",
    "from tqdm import tqdm\n",
    "import contractions\n",
    "nltk.download('punkt')\n",
    "nltk.download('stopwords')\n",
    "nltk.download('wordnet')\n",
    "from string import punctuation\n",
    "from nltk.tokenize import word_tokenize\n",
    "import re\n",
    "from nltk.corpus import stopwords\n",
    "from nltk.stem import WordNetLemmatizer"
   ]
  },
  {
   "cell_type": "code",
   "execution_count": 24,
   "metadata": {},
   "outputs": [],
   "source": [
    "def load_lines(filename):\n",
    "    with open(filename, 'r', encoding='iso-8859-1') as file:\n",
    "        lines = file.readlines()\n",
    "    return lines\n",
    "\n",
    "def load_conversations(filename):\n",
    "    with open(filename, 'r', encoding='iso-8859-1') as file:\n",
    "        conversations = file.readlines()\n",
    "    return conversations\n",
    "\n",
    "def create_lines_dictionary(lines):\n",
    "    lines_dict = {}\n",
    "    for line in lines:\n",
    "        parts = line.split('+++$+++')\n",
    "        if len(parts) == 5:\n",
    "            line_id = parts[0].strip()\n",
    "            text = parts[4].strip()\n",
    "            lines_dict[line_id] = text\n",
    "    return lines_dict\n",
    "\n",
    "def create_dialogue_pairs(lines_dict, conversations):\n",
    "    conversation_list = extract_conversations(conversations)\n",
    "    dialogue_pairs = []\n",
    "    for conversation in conversation_list:\n",
    "        for i in range(len(conversation) - 1):\n",
    "            input_line = lines_dict[conversation[i]].strip()\n",
    "            target_line = lines_dict[conversation[i + 1]].strip()\n",
    "            dialogue_pairs.append((input_line, target_line))\n",
    "    return dialogue_pairs\n",
    "\n",
    "def extract_conversations(conversations):\n",
    "    conversation_list = []\n",
    "    for line in conversations:\n",
    "        line_parts = line.split(' +++$+++ ')\n",
    "        conversation_ids = eval(line_parts[-1])\n",
    "        conversation_list.append(conversation_ids)\n",
    "    return conversation_list\n"
   ]
  },
  {
   "cell_type": "code",
   "execution_count": 25,
   "metadata": {},
   "outputs": [],
   "source": [
    "\n",
    "def clean_and_tokenize_text(text):\n",
    "    text = text.lower()\n",
    "    text = contractions.fix(text)\n",
    "\n",
    "    text = ''.join([c for c in text if c not in punctuation])\n",
    "    tokens = word_tokenize(text)\n",
    "    #stop_words = set(stopwords.words('english'))\n",
    "    #tokens = [token for token in tokens if token not in stop_words]\n",
    "    #lemmatizer = WordNetLemmatizer()\n",
    "    #tokens = [lemmatizer.lemmatize(token) for token in tokens]\n",
    "    tokens = [token.strip() for token in tokens if token.strip()]\n",
    "    return tokens\n",
    "\n",
    "def preprocess_dialogue(dialogue_pairs, min_length=2, max_length=100):\n",
    "    preprocessed_pairs = []\n",
    "    total_pairs = len(dialogue_pairs)\n",
    "\n",
    "    with tqdm(total=total_pairs, desc=\"Preprocessing\") as pbar:\n",
    "        for pair in dialogue_pairs:\n",
    "            input_tokens = clean_and_tokenize_text(pair[0])\n",
    "            target_tokens = clean_and_tokenize_text(pair[1])\n",
    "\n",
    "            # Check the length of input_tokens and target_tokens\n",
    "            if len(input_tokens) < min_length or len(input_tokens) > max_length or len(target_tokens) < min_length or len(target_tokens) > max_length:\n",
    "                pbar.update(1)\n",
    "                continue\n",
    "\n",
    "            preprocessed_pairs.append((input_tokens, target_tokens))\n",
    "            pbar.update(1)\n",
    "\n",
    "    return preprocessed_pairs"
   ]
  },
  {
   "cell_type": "code",
   "execution_count": 13,
   "metadata": {},
   "outputs": [
    {
     "name": "stdout",
     "output_type": "stream",
     "text": [
      "304713\n",
      "83097\n"
     ]
    }
   ],
   "source": [
    "lines = load_lines('../data/movie_lines.txt')\n",
    "conversations = load_conversations('../data/movie_conversations.txt')\n",
    "print(len(lines))\n",
    "print(len(conversations))"
   ]
  },
  {
   "cell_type": "code",
   "execution_count": 26,
   "metadata": {},
   "outputs": [
    {
     "name": "stdout",
     "output_type": "stream",
     "text": [
      "304713\n",
      "221616\n"
     ]
    }
   ],
   "source": [
    "lines_dict = create_lines_dictionary(lines)\n",
    "dialogue_pairs = create_dialogue_pairs(lines_dict, conversations)\n",
    "print(len(lines_dict))\n",
    "print(len(dialogue_pairs))"
   ]
  },
  {
   "cell_type": "code",
   "execution_count": 27,
   "metadata": {},
   "outputs": [
    {
     "data": {
      "text/plain": [
       "[('Can we make this quick?  Roxanne Korrine and Andrew Barrett are having an incredibly horrendous public break- up on the quad.  Again.',\n",
       "  \"Well, I thought we'd start with pronunciation, if that's okay with you.\"),\n",
       " (\"Well, I thought we'd start with pronunciation, if that's okay with you.\",\n",
       "  'Not the hacking and gagging and spitting part.  Please.'),\n",
       " ('Not the hacking and gagging and spitting part.  Please.',\n",
       "  \"Okay... then how 'bout we try out some French cuisine.  Saturday?  Night?\"),\n",
       " (\"You're asking me out.  That's so cute. What's your name again?\",\n",
       "  'Forget it.'),\n",
       " (\"No, no, it's my fault -- we didn't have a proper introduction ---\",\n",
       "  'Cameron.'),\n",
       " ('Cameron.',\n",
       "  \"The thing is, Cameron -- I'm at the mercy of a particularly hideous breed of loser.  My sister.  I can't date until she does.\"),\n",
       " (\"The thing is, Cameron -- I'm at the mercy of a particularly hideous breed of loser.  My sister.  I can't date until she does.\",\n",
       "  'Seems like she could get a date easy enough...'),\n",
       " ('Why?',\n",
       "  'Unsolved mystery.  She used to be really popular when she started high school, then it was just like she got sick of it or something.'),\n",
       " ('Unsolved mystery.  She used to be really popular when she started high school, then it was just like she got sick of it or something.',\n",
       "  \"That's a shame.\"),\n",
       " ('Gosh, if only we could find Kat a boyfriend...',\n",
       "  'Let me see what I can do.')]"
      ]
     },
     "execution_count": 27,
     "metadata": {},
     "output_type": "execute_result"
    }
   ],
   "source": [
    "dialogue_pairs[:10]"
   ]
  },
  {
   "cell_type": "code",
   "execution_count": 28,
   "metadata": {},
   "outputs": [
    {
     "name": "stderr",
     "output_type": "stream",
     "text": [
      "Preprocessing: 100%|██████████| 221616/221616 [01:13<00:00, 3013.54it/s]"
     ]
    },
    {
     "name": "stdout",
     "output_type": "stream",
     "text": [
      "187805\n"
     ]
    },
    {
     "name": "stderr",
     "output_type": "stream",
     "text": [
      "\n"
     ]
    }
   ],
   "source": [
    "preprocessed_dialogue_pairs = preprocess_dialogue(dialogue_pairs)\n",
    "print(len(preprocessed_dialogue_pairs))"
   ]
  },
  {
   "cell_type": "code",
   "execution_count": 29,
   "metadata": {},
   "outputs": [
    {
     "name": "stdout",
     "output_type": "stream",
     "text": [
      "(['can', 'we', 'make', 'this', 'quick', 'roxanne', 'korrine', 'and', 'andrew', 'barrett', 'are', 'having', 'an', 'incredibly', 'horrendous', 'public', 'break', 'up', 'on', 'the', 'quad', 'again'], ['well', 'i', 'thought', 'we', 'would', 'start', 'with', 'pronunciation', 'if', 'that', 'is', 'okay', 'with', 'you'])\n",
      "(['well', 'i', 'thought', 'we', 'would', 'start', 'with', 'pronunciation', 'if', 'that', 'is', 'okay', 'with', 'you'], ['not', 'the', 'hacking', 'and', 'gagging', 'and', 'spitting', 'part', 'please'])\n",
      "(['not', 'the', 'hacking', 'and', 'gagging', 'and', 'spitting', 'part', 'please'], ['okay', 'then', 'how', 'bout', 'we', 'try', 'out', 'some', 'french', 'cuisine', 'saturday', 'night'])\n",
      "(['you', 'are', 'asking', 'me', 'out', 'that', 'is', 'so', 'cute', 'what', 'is', 'your', 'name', 'again'], ['forget', 'it'])\n",
      "(['the', 'thing', 'is', 'cameron', 'i', 'am', 'at', 'the', 'mercy', 'of', 'a', 'particularly', 'hideous', 'breed', 'of', 'loser', 'my', 'sister', 'i', 'can', 'not', 'date', 'until', 'she', 'does'], ['seems', 'like', 'she', 'could', 'get', 'a', 'date', 'easy', 'enough'])\n",
      "(['unsolved', 'mystery', 'she', 'used', 'to', 'be', 'really', 'popular', 'when', 'she', 'started', 'high', 'school', 'then', 'it', 'was', 'just', 'like', 'she', 'got', 'sick', 'of', 'it', 'or', 'something'], ['that', 'is', 'a', 'shame'])\n",
      "(['gosh', 'if', 'only', 'we', 'could', 'find', 'kat', 'a', 'boyfriend'], ['let', 'me', 'see', 'what', 'i', 'can', 'do'])\n",
      "(['cesc', 'ma', 'tete', 'this', 'is', 'my', 'head'], ['right', 'see', 'you', 'are', 'ready', 'for', 'the', 'quiz'])\n",
      "(['right', 'see', 'you', 'are', 'ready', 'for', 'the', 'quiz'], ['i', 'do', 'not', 'want', 'to', 'know', 'how', 'to', 'say', 'that', 'though', 'i', 'want', 'to', 'know', 'useful', 'things', 'like', 'where', 'the', 'good', 'stores', 'are', 'how', 'much', 'does', 'champagne', 'cost', 'stuff', 'like', 'chat', 'i', 'have', 'never', 'in', 'my', 'life', 'had', 'to', 'point', 'out', 'my', 'head', 'to', 'someone'])\n",
      "(['i', 'do', 'not', 'want', 'to', 'know', 'how', 'to', 'say', 'that', 'though', 'i', 'want', 'to', 'know', 'useful', 'things', 'like', 'where', 'the', 'good', 'stores', 'are', 'how', 'much', 'does', 'champagne', 'cost', 'stuff', 'like', 'chat', 'i', 'have', 'never', 'in', 'my', 'life', 'had', 'to', 'point', 'out', 'my', 'head', 'to', 'someone'], ['that', 'is', 'because', 'it', 'is', 'such', 'a', 'nice', 'one'])\n"
     ]
    }
   ],
   "source": [
    "for pair in preprocessed_dialogue_pairs[:10]:\n",
    "    print(pair)"
   ]
  },
  {
   "cell_type": "code",
   "execution_count": 30,
   "metadata": {},
   "outputs": [],
   "source": [
    "import pickle\n",
    "\n",
    "# Save the preprocessed dialogue pairs\n",
    "with open('../data/preprocessed_dialogue_pairs.pkl', 'wb') as file:\n",
    "    pickle.dump(preprocessed_dialogue_pairs, file)"
   ]
  }
 ],
 "metadata": {
  "kernelspec": {
   "display_name": "gan",
   "language": "python",
   "name": "python3"
  },
  "language_info": {
   "codemirror_mode": {
    "name": "ipython",
    "version": 3
   },
   "file_extension": ".py",
   "mimetype": "text/x-python",
   "name": "python",
   "nbconvert_exporter": "python",
   "pygments_lexer": "ipython3",
   "version": "3.11.5"
  }
 },
 "nbformat": 4,
 "nbformat_minor": 2
}
